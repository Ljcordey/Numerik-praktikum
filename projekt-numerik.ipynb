{
 "cells": [
  {
   "cell_type": "markdown",
   "metadata": {},
   "source": [
    "# ***projekt numerik***"
   ]
  },
  {
   "cell_type": "code",
   "execution_count": 1,
   "metadata": {},
   "outputs": [],
   "source": [
    "import numpy as np\n",
    "from matplotlib import pyplot as plt\n",
    "import constants as cst"
   ]
  },
  {
   "cell_type": "markdown",
   "metadata": {},
   "source": [
    "## ***Implicit model***"
   ]
  },
  {
   "cell_type": "code",
   "execution_count": 8,
   "metadata": {},
   "outputs": [],
   "source": [
    "# delta's discretisation\n",
    "\n",
    "delta_t = 0.5\n",
    "delta_r = 0.5\n",
    "n = 4\n",
    "def t_i(i):\n",
    "    return i*delta_t\n",
    "\n",
    "def r_j(j):\n",
    "    return j*delta_r\n",
    "\n",
    "#T_i_plus_one = np.zeros((n-1,n-1))\n"
   ]
  },
  {
   "cell_type": "code",
   "execution_count": 11,
   "metadata": {},
   "outputs": [
    {
     "ename": "SyntaxError",
     "evalue": "invalid syntax (<ipython-input-11-8b28888d8f03>, line 13)",
     "output_type": "error",
     "traceback": [
      "\u001b[1;36m  File \u001b[1;32m\"<ipython-input-11-8b28888d8f03>\"\u001b[1;36m, line \u001b[1;32m13\u001b[0m\n\u001b[1;33m    t_i_p1.append( T_i[j] + delta_t/(r_j(j)*c_p(j)*rho(j)) * (lambda(j)*(T_prime+r(j)*T_prime_2)) )\u001b[0m\n\u001b[1;37m                                                                    ^\u001b[0m\n\u001b[1;31mSyntaxError\u001b[0m\u001b[1;31m:\u001b[0m invalid syntax\n"
     ]
    }
   ],
   "source": [
    "# function definition for explicit solution\n",
    "\n",
    "def T_i_p1(T_i,n):\n",
    "\n",
    "    t_i_p1 = []\n",
    "\n",
    "    #add to T_i,j the follow up values, iterating on the value J=1 to J = n-1\n",
    "    for j in range (1, n - 1):\n",
    "    # first and second derivatives respective to r\n",
    "        T_prime = T_i[j+1]-T_i[j]/(delta_r)\n",
    "        T_prime_2 = T_i[j+1]-2*T_i[j]+T_i[j-1]/(delta_r**2)\n",
    "\n",
    "        t_i_p1.append( T_i[j] + delta_t / (r_j(j) * c_p(j) * rho(j)) * (lambda(j) * (T_prime+r(j) * T_prime_2)) )\n",
    "\n",
    "    return t_i_p1"
   ]
  }
 ],
 "metadata": {
  "interpreter": {
   "hash": "7a6a964c472ecd7788e0ef576b897abcedceaec8f1e5eebacc311dcaa6241870"
  },
  "kernelspec": {
   "display_name": "Python 3.7.3 ('base')",
   "language": "python",
   "name": "python3"
  },
  "language_info": {
   "codemirror_mode": {
    "name": "ipython",
    "version": 3
   },
   "file_extension": ".py",
   "mimetype": "text/x-python",
   "name": "python",
   "nbconvert_exporter": "python",
   "pygments_lexer": "ipython3",
   "version": "3.7.3"
  },
  "orig_nbformat": 4
 },
 "nbformat": 4,
 "nbformat_minor": 2
}
