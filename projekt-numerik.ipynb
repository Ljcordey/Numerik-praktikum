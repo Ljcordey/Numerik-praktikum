{
 "cells": [
  {
   "cell_type": "markdown",
   "metadata": {},
   "source": [
    "# ***projekt numerik***"
   ]
  },
  {
   "cell_type": "code",
   "execution_count": 1,
   "metadata": {},
   "outputs": [],
   "source": [
    "import numpy as np\n",
    "from matplotlib import pyplot as plt\n",
    "import constants as cst"
   ]
  },
  {
   "cell_type": "markdown",
   "metadata": {},
   "source": [
    "## ***Implicit model***"
   ]
  },
  {
   "cell_type": "code",
   "execution_count": 2,
   "metadata": {},
   "outputs": [],
   "source": [
    "# delta's discretisation\n",
    "\n",
    "delta_t = 0.5\n",
    "delta_r = 0.5\n",
    "n = 4\n",
    "\n",
    "def t_i(i):\n",
    "    return i*delta_t\n",
    "\n",
    "def r_j(j):\n",
    "    return j*delta_r\n",
    "\n",
    "#T_i_plus_one = np.zeros((n-1,n-1))\n"
   ]
  },
  {
   "cell_type": "markdown",
   "metadata": {},
   "source": [
    "##  Constants and their implementations\n",
    "\n",
    "blablabla"
   ]
  },
  {
   "cell_type": "code",
   "execution_count": 3,
   "metadata": {},
   "outputs": [],
   "source": [
    "#Dichte nach Radius\n",
    "\n",
    "def rho(r):\n",
    "\n",
    "    dichte;\n",
    "\n",
    "    if(r>= 0 or r <= 25):\n",
    "        dichte = cst.WASSER[0]\n",
    "\n",
    "    if((r>= 25 or r <= 30) or (r>= 55 or r<=60) ):\n",
    "        dichte =cst.STAHL[0]\n",
    "\n",
    "    if(r>= 30 or r <= 55):\n",
    "        dichte = cst.GLASSWOLLE[0]\n",
    "\n",
    "    return dichte\n",
    "\n",
    "# Wärmekapazität nach Radius\n",
    "def c_p(r):\n",
    "\n",
    "    cap;\n",
    "\n",
    "    if(r>= 0 or r <= 25):\n",
    "        cap = cst.WASSER[1]\n",
    "\n",
    "    if((r>= 25 or r <= 30) or (r>= 55 or r<=60)):\n",
    "        cap = cst.STAHL[1]\n",
    "\n",
    "    if(r>= 30 or r <= 55):\n",
    "        cap = cst.GLASSWOLLE[1]\n",
    "\n",
    "    return cap\n",
    "\n",
    "\n",
    "#Wärmeleitungskonstante nach Radius\n",
    "def Lambda(r):\n",
    "\n",
    "    lam;\n",
    "\n",
    "    if(r>= 0 or r <= 25):\n",
    "        lam = cst.WASSER[2]\n",
    "\n",
    "    if((r>= 25 or r <= 30) or (r>= 55 or r<=60) ):\n",
    "        lam = cst.STAHL[2]\n",
    "\n",
    "    if(r>= 30 or r <= 55):\n",
    "        lam = cst.GLASSWOLLE[2]\n",
    "\n",
    "    return lam"
   ]
  },
  {
   "cell_type": "markdown",
   "metadata": {},
   "source": [
    "## Definition of the function of time and its implementation\n",
    "\n"
   ]
  },
  {
   "cell_type": "code",
   "execution_count": 4,
   "metadata": {},
   "outputs": [],
   "source": [
    "# function definition for explicit solution\n",
    "\n",
    "def T_i_p1(T_i,n):\n",
    "\n",
    "    t_i_p1 = []\n",
    "\n",
    "    # add to T_i,j the follow up values, iterating on the value J=1 to J = n-1\n",
    "    for j in range (1, n - 1):\n",
    "    # first and second derivatives respective to r\n",
    "        if()\n",
    "        T_prime = T_i[j+1]-T_i[j]/(delta_r)\n",
    "        T_prime_2 = T_i[j+1]-2*T_i[j]+T_i[j-1]/(delta_r**2)\n",
    "\n",
    "        t_i_p1.append(T_i[j] + delta_t / (r_j(j) * c_p(r_j(j)) * rho(r_j(j)) * (Lambda(j) * (T_prime+r_j(j) * T_prime_2)) ))\n",
    "    \n",
    "    return t_i_p1\n"
   ]
  },
  {
   "cell_type": "code",
   "execution_count": 7,
   "metadata": {},
   "outputs": [],
   "source": [
    "Gt=20\n",
    "n = cst.size_rhor/delta_r\n",
    "\n",
    "#anfangsbedigung (2a) t(0,r) = 0\n",
    "\n",
    "T_initial = np.zeros(int(n-1)) # potential rounding error that can happen here, be careful with the delta_r division increments. it should always be a multiple of 5,3 and 2.\n",
    "\n",
    "# randbedigung 1 (2b) T(t,R) = g(t)\n",
    "T_R1 = np.ones(int(n-1))*Gt\n",
    "\n",
    "#randbedigung 2 (2c) T'(t,0) = 0"
   ]
  }
 ],
 "metadata": {
  "interpreter": {
   "hash": "6d2f83be7e1419e852f964e88f0df206ed730d990b68b06ce162129225520e5d"
  },
  "kernelspec": {
   "display_name": "Python 3.7.3 ('base')",
   "language": "python",
   "name": "python3"
  },
  "language_info": {
   "codemirror_mode": {
    "name": "ipython",
    "version": 3
   },
   "file_extension": ".py",
   "mimetype": "text/x-python",
   "name": "python",
   "nbconvert_exporter": "python",
   "pygments_lexer": "ipython3",
   "version": "3.7.3"
  },
  "orig_nbformat": 4
 },
 "nbformat": 4,
 "nbformat_minor": 2
}
