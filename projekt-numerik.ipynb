{
 "cells": [
  {
   "cell_type": "markdown",
   "metadata": {},
   "source": [
    "# ***projekt numerik***"
   ]
  },
  {
   "cell_type": "code",
   "execution_count": 9,
   "metadata": {},
   "outputs": [],
   "source": [
    "import numpy as np\n",
    "from matplotlib import pyplot as plt\n",
    "import constants as cst"
   ]
  },
  {
   "cell_type": "markdown",
   "metadata": {},
   "source": [
    "## ***Implicit model***"
   ]
  },
  {
   "cell_type": "code",
   "execution_count": 10,
   "metadata": {},
   "outputs": [],
   "source": [
    "# delta's discretisation\n",
    "\n",
    "delta_t = 0.5\n",
    "delta_r = 0.5\n",
    "n = 4\n",
    "\n",
    "def t_i(i):\n",
    "    return i*delta_t\n",
    "\n",
    "def r_j(j):\n",
    "    return j*delta_r\n",
    "\n",
    "#T_i_plus_one = np.zeros((n-1,n-1))\n"
   ]
  },
  {
   "cell_type": "markdown",
   "metadata": {},
   "source": [
    "##  Constants and their implementations\n",
    "\n",
    "blablabla"
   ]
  },
  {
   "cell_type": "code",
   "execution_count": 11,
   "metadata": {},
   "outputs": [],
   "source": [
    "#Dichte nach Radius\n",
    "\n",
    "def rho(r):\n",
    "\n",
    "    #dichte;\n",
    "\n",
    "    if(r>= 0 or r <= 25):\n",
    "        dichte = cst.WASSER[0]\n",
    "\n",
    "    if((r>= 25 or r <= 30) or (r>= 55 or r<=60) ):\n",
    "        dichte =cst.STAHL[0]\n",
    "\n",
    "    if(r>= 30 or r <= 55):\n",
    "        dichte = cst.GLASSWOLLE[0]\n",
    "\n",
    "    return dichte\n",
    "\n",
    "# Wärmekapazität nach Radius\n",
    "def c_p(r):\n",
    "\n",
    "    #cap;\n",
    "\n",
    "    if(r>= 0 or r <= 25):\n",
    "        cap = cst.WASSER[1]\n",
    "\n",
    "    if((r>= 25 or r <= 30) or (r>= 55 or r<=60)):\n",
    "        cap = cst.STAHL[1]\n",
    "\n",
    "    if(r>= 30 or r <= 55):\n",
    "        cap = cst.GLASSWOLLE[1]\n",
    "\n",
    "    return cap\n",
    "\n",
    "\n",
    "#Wärmeleitungskonstante nach Radius\n",
    "def Lambda(r):\n",
    "\n",
    "    #lam;\n",
    "\n",
    "    if(r>= 0 or r <= 25):\n",
    "        lam = cst.WASSER[2]\n",
    "\n",
    "    if((r>= 25 or r <= 30) or (r>= 55 or r<=60) ):\n",
    "        lam = cst.STAHL[2]\n",
    "\n",
    "    if(r>= 30 or r <= 55):\n",
    "        lam = cst.GLASSWOLLE[2]\n",
    "\n",
    "    return lam"
   ]
  },
  {
   "cell_type": "markdown",
   "metadata": {},
   "source": [
    "## Definition of the function of time and its implementation\n",
    "\n"
   ]
  },
  {
   "cell_type": "code",
   "execution_count": 12,
   "metadata": {},
   "outputs": [
    {
     "data": {
      "text/plain": [
       "'\\n\\ndef T_i_p1(T_i,n):\\n\\n    t_i_p1 = []\\n\\n    # add to T_i,j the follow up values, iterating on the value J=1 to J = n-1\\n    for j in range (1, n - 1):\\n    # first and second derivatives respective to r\\n        T_prime = T_i[j+1]-T_i[j]/(delta_r)\\n        T_prime_2 = T_i[j+1]-2*T_i[j]+T_i[j-1]/(delta_r**2)\\n\\n        t_i_p1.append(T_i[j] + (delta_t*Lambda(j)) / (r_j(j) * c_p(r_j(j)) * rho(r_j(j))) * (T_prime + r_j(j) * T_prime_2)) \\n    \\n    return t_i_p1\\n'"
      ]
     },
     "execution_count": 12,
     "metadata": {},
     "output_type": "execute_result"
    }
   ],
   "source": [
    "# function definition for explicit solution\n",
    "'''\n",
    "\n",
    "def T_i_p1(T_i,n):\n",
    "\n",
    "    t_i_p1 = []\n",
    "\n",
    "    # add to T_i,j the follow up values, iterating on the value J=1 to J = n-1\n",
    "    for j in range (1, n - 1):\n",
    "    # first and second derivatives respective to r\n",
    "        T_prime = T_i[j+1]-T_i[j]/(delta_r)\n",
    "        T_prime_2 = T_i[j+1]-2*T_i[j]+T_i[j-1]/(delta_r**2)\n",
    "\n",
    "        t_i_p1.append(T_i[j] + (delta_t*Lambda(j)) / (r_j(j) * c_p(r_j(j)) * rho(r_j(j))) * (T_prime + r_j(j) * T_prime_2)) \n",
    "    \n",
    "    return t_i_p1\n",
    "'''"
   ]
  },
  {
   "cell_type": "code",
   "execution_count": 13,
   "metadata": {},
   "outputs": [],
   "source": [
    "Gt=20\n",
    "n = int(cst.size_rhor/delta_r)\n",
    "time =int(100 / delta_t)\n",
    "\n",
    "#anfangsbedigung (2a) t(0,r) = 0\n",
    "\n",
    "T_initial = np.zeros(n-1) # potential rounding error that can happen here, be careful with the delta_r division increments. it should always be a multiple of 5,3 and 2.\n",
    "\n",
    "# randbedigung 1 (2b) T(t,R) = g(t)\n",
    "T_R1 = np.ones(n-1)*Gt\n"
   ]
  },
  {
   "cell_type": "markdown",
   "metadata": {},
   "source": [
    "## explicit\n",
    "\n",
    "$T_{i+1,j} = u_j \\frac{r_j}{\\Delta r^2}T_{i,j-1} + [1-u_j(\\frac{1}{\\Delta r} + \\frac{2r_j}{\\Delta r^2})]T_{i,j} + u_j(\\frac{1}{\\Delta r}+ \\frac{r_j}{\\Delta r^2})T_{i,j+1}$\n",
    "\n",
    "\n",
    "for $u_j = \\frac{\\Delta t}{r_j}k_j$ and $k_j = \\frac{\\lambda _j}{Cp_{j} \\rho _j}$"
   ]
  },
  {
   "cell_type": "code",
   "execution_count": 23,
   "metadata": {},
   "outputs": [
    {
     "ename": "IndexError",
     "evalue": "index 119 is out of bounds for axis 0 with size 119",
     "output_type": "error",
     "traceback": [
      "\u001b[1;31m---------------------------------------------------------------------------\u001b[0m",
      "\u001b[1;31mIndexError\u001b[0m                                Traceback (most recent call last)",
      "\u001b[1;32m<ipython-input-23-f02e6c27c350>\u001b[0m in \u001b[0;36m<module>\u001b[1;34m\u001b[0m\n\u001b[0;32m     12\u001b[0m             \u001b[0mA\u001b[0m\u001b[1;33m,\u001b[0m\u001b[0mB\u001b[0m\u001b[1;33m,\u001b[0m\u001b[0mC\u001b[0m \u001b[1;33m=\u001b[0m \u001b[1;36m0\u001b[0m\u001b[1;33m,\u001b[0m\u001b[1;36m0\u001b[0m\u001b[1;33m,\u001b[0m\u001b[1;36m0\u001b[0m\u001b[1;33m\u001b[0m\u001b[1;33m\u001b[0m\u001b[0m\n\u001b[0;32m     13\u001b[0m         \u001b[1;32melse\u001b[0m\u001b[1;33m:\u001b[0m\u001b[1;33m\u001b[0m\u001b[1;33m\u001b[0m\u001b[0m\n\u001b[1;32m---> 14\u001b[1;33m             \u001b[0mA\u001b[0m \u001b[1;33m=\u001b[0m \u001b[0mT\u001b[0m\u001b[1;33m[\u001b[0m\u001b[0mi\u001b[0m\u001b[1;33m]\u001b[0m\u001b[1;33m[\u001b[0m\u001b[0mj\u001b[0m\u001b[1;33m-\u001b[0m\u001b[1;36m1\u001b[0m\u001b[1;33m]\u001b[0m\u001b[1;33m\u001b[0m\u001b[1;33m\u001b[0m\u001b[0m\n\u001b[0m\u001b[0;32m     15\u001b[0m             \u001b[0mB\u001b[0m \u001b[1;33m=\u001b[0m \u001b[0mT\u001b[0m\u001b[1;33m[\u001b[0m\u001b[0mi\u001b[0m\u001b[1;33m]\u001b[0m\u001b[1;33m[\u001b[0m\u001b[0mj\u001b[0m\u001b[1;33m]\u001b[0m\u001b[1;33m\u001b[0m\u001b[1;33m\u001b[0m\u001b[0m\n\u001b[0;32m     16\u001b[0m         \u001b[1;31m#boundary case where we have to evaluate Ti,j+1 where j+1 = R\u001b[0m\u001b[1;33m\u001b[0m\u001b[1;33m\u001b[0m\u001b[1;33m\u001b[0m\u001b[0m\n",
      "\u001b[1;31mIndexError\u001b[0m: index 119 is out of bounds for axis 0 with size 119"
     ]
    }
   ],
   "source": [
    "\n",
    "T = np.empty([n-1,n-1])\n",
    "\n",
    "\n",
    "for i in range(0,time):\n",
    "    for j in range (1,n-1):\n",
    "\n",
    "        k_j = Lambda(j) / (c_p(j)*rho(j))\n",
    "        u_j = (delta_t*k_j) / r_j(j)\n",
    "\n",
    "        #boundary case where we have to evaluate Ti,j-1 where j-1 = 0\n",
    "        if i == 0:\n",
    "            A,B,C = 0,0,0\n",
    "        else:\n",
    "            A = T[i][j-1]\n",
    "            B = T[i][j]\n",
    "        #boundary case where we have to evaluate Ti,j+1 where j+1 = R\n",
    "        if j+1 == n-1:\n",
    "            C = Gt\n",
    "        else:  \n",
    "            C = T[i][j+1]\n",
    "    \n",
    "        T[i][j] = u_j*r_j(j)/(delta_r**2)*A + (1-u_j*(1/delta_r + 2*r_j(j)/delta_r**2))*B + u_j*(1/delta_r + r_j(j)/delta_r**2)*C\n",
    "        \n"
   ]
  }
 ],
 "metadata": {
  "interpreter": {
   "hash": "6d2f83be7e1419e852f964e88f0df206ed730d990b68b06ce162129225520e5d"
  },
  "kernelspec": {
   "display_name": "Python 3.7.3 ('base')",
   "language": "python",
   "name": "python3"
  },
  "language_info": {
   "codemirror_mode": {
    "name": "ipython",
    "version": 3
   },
   "file_extension": ".py",
   "mimetype": "text/x-python",
   "name": "python",
   "nbconvert_exporter": "python",
   "pygments_lexer": "ipython3",
   "version": "3.7.3"
  },
  "orig_nbformat": 4
 },
 "nbformat": 4,
 "nbformat_minor": 2
}
