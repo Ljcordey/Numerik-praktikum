{
 "cells": [
  {
   "cell_type": "markdown",
   "metadata": {},
   "source": [
    "# LR-Zerlegung für Tridiagonalmatrizen"
   ]
  },
  {
   "cell_type": "markdown",
   "metadata": {},
   "source": [
    "## Theorie und Ziele"
   ]
  },
  {
   "cell_type": "markdown",
   "metadata": {},
   "source": [
    "Für *Tridiagonalmatrizen* lässt sich die *LR-Zerlegung* effizienter durchführen, als für vollbesetzte Matrizen. Solche Matrizen treten bei der numerischen Lösung von eindimensionalen Randwertproblemen (RWP) auf. Wir betrachten exemplarisch \n",
    "\n",
    "$$\n",
    "     u''(x) = f(x), \\quad (0 < x < 1), \\qquad u(0) = u_0, u(1) = u_n\n",
    "$$\n",
    "\n",
    "für vorgegebene Randwerte $u_0, u_n$. Durch **Diskretisierung** lässt sich daraus ein LGS mit tridiagonaler Koeffizentenmatrix $A$ für die Stützwerte $u_i = u(x_i)$ gewinnen. Wir teilen dazu das Intervall $[0,1]$ in $n$ Intervalle der Länge $h>0$ an den Teilungspunkten $x_0 = 0, x_1 = x_0 + h, \\ldots, x_n = 1$. Daraus entsteht ein tridiagonales LGS $A u = b$ (s. Unterricht).\n",
    "\n",
    "**Ziel** des Praktikums ist es, die Algorithmen für Tridiagonalmatrizen zu implementieren und an einem Beispiel zu testen. Obwohl $A$ für die hier betrachtete Problemklasse immer gleich aussieht ($2$ auf der Hauptdiagonalen, $-1$ auf den zwei Nebendiagonalen) soll die LR-Zerlegung allgemein für Tridiagonalmatrizen umgesetzt werden.\n",
    "\n",
    "Da fast alle Einträge in $A$ verschwinden, wird die Matrix $A$ nicht als Matrix gespeichert, sondern nur die drei Diagonalen als Vektoren. *Eine* Möglichkeit besteht darin, eine $3 \\times n$ Matrix zu verwenden (aber es gibt natürlich viele andere Varianten):\n",
    "\n",
    "$$\n",
    "        M = \\begin{pmatrix} 0      & a_{21} & \\ldots & a_{n-1,n-2} & a_{n,n-1} \\\\\n",
    "                            a_{11} & a_{22} & \\ldots &  a_{n-1,n-1} & a_{nn} \\\\\n",
    "                            a_{12} & a_{23} & \\ldots &  a_{n-1,n} & 0 \\end{pmatrix}\n",
    "$$\n",
    "\n",
    "in diesem Fall gilt \n",
    "\n",
    "$$\n",
    " a_{j,j-1} = m_{1,j}, (2 \\leq j \\leq n) \\qquad a_{j,j} = m_{2,j}, (1 \\leq j \\leq n)\\qquad a_{j,j+1} = m_{3,j} , (1 \\leq j \\leq n-1)\n",
    "$$\n",
    "\n",
    "in Python ist zusätzlich zu berücksichtigen, dass die Indices bei $0$ starten. Das Resultat der Zerlegung ist ebenfalls tridiagonal und kann auf dieselbe Art gespeichert werden."
   ]
  },
  {
   "cell_type": "markdown",
   "metadata": {},
   "source": [
    "## Aufgaben"
   ]
  },
  {
   "cell_type": "markdown",
   "metadata": {},
   "source": [
    "### Aufgabe 1"
   ]
  },
  {
   "cell_type": "markdown",
   "metadata": {},
   "source": [
    "Implementieren Sie die LR-Zerlegung effizient für Tridiagonalmatrizen (Algorithmus 2.6). Sie dürfen die Schnittstelle anpassen, wenn Sie das sinnvoll finden."
   ]
  },
  {
   "cell_type": "code",
   "execution_count": null,
   "metadata": {},
   "outputs": [],
   "source": [
    "%%%\n",
    "% LU decomposition for tridiagonal matrix\n",
    "% in: a  =  [0,      a_{21}, ..., a_{n,n-1}\n",
    "%            a_{11}, a_{22}, ..., a_{nn}\n",
    "%            a_{12}, a_{23}, ..., a_{n-1,n}]\n",
    "% \n",
    "% out: LR = [0,      l_{21}, ..., l_{n,n-1}\n",
    "%            r_{11}, r_{22}, ..., r_{nn}\n",
    "%            r_{12}, r_{23}, ..., r_{n-1,n}]\n",
    "%%%\n",
    "\n",
    "% speichern unter LUT.m"
   ]
  },
  {
   "cell_type": "markdown",
   "metadata": {},
   "source": [
    "Testen Sie Ihre Umsetzung. Der folgende Testcode funktioniert, falls die Tridiagonalmatrix wie in der Einleitung beschrieben gespeichert wurde."
   ]
  },
  {
   "cell_type": "code",
   "execution_count": null,
   "metadata": {},
   "outputs": [],
   "source": [
    "n=5; % Grösse der Matrizen\n",
    "% test LUT\n",
    "for k = (1:1000)\n",
    "    m = rand(3,n);     % Zufällige Matrix M erzeugen\n",
    "    m(1,1) = 0;       % nicht verwendete Einträge löschen\n",
    "    m(end,end) = 0;   \n",
    "    \n",
    "    A = diag(m(1,2:end), -1) + diag(m(2,:), 0) + diag(m(3,1:end-1), 1); % volle Matrix A erzeugen (nur für Test)\n",
    "    \n",
    "    LR = LUT(m);\n",
    "    L = diag(LR(1,2:end) , -1) + eye(n);  % L Matrizen\n",
    "    R = diag(LR(2,:)) + diag(LR(3,1:end-1), 1); % R Matrizen\n",
    "\n",
    "    assert(norm(L*R-A) < 1e-10)\n",
    "\n",
    "end"
   ]
  },
  {
   "cell_type": "markdown",
   "metadata": {},
   "source": [
    "### Aufgabe 2"
   ]
  },
  {
   "cell_type": "markdown",
   "metadata": {},
   "source": [
    "Implementieren Sie die Vorwärts- und Rücksubstitution effizient für Tridiagonalmatrizen"
   ]
  },
  {
   "cell_type": "code",
   "execution_count": null,
   "metadata": {},
   "outputs": [],
   "source": [
    "%%%\n",
    "% in place substitution for tridiagonal matrix\n",
    "% in: LR (output from LUT), vector b (=x)\n",
    "% out: vector x s.t. L@R@x == b\n",
    "%%%\n",
    "\n",
    "% speichern unter fbSubsT.m"
   ]
  },
  {
   "cell_type": "markdown",
   "metadata": {},
   "source": [
    "Testen Sie Ihre Umsetzung. Der folgende Testcode ist wiederum auf die oben beschriebene Speicherung der Matrizen ausgelegt."
   ]
  },
  {
   "cell_type": "code",
   "execution_count": null,
   "metadata": {},
   "outputs": [],
   "source": [
    "% test fbSubsT\n",
    "for k = (1:1000)\n",
    "    m = rand(3,n);\n",
    "    m(1,1) = 0;\n",
    "    m(end,end) = 0;\n",
    "\n",
    "    A = diag(m(1,2:end), -1) + diag(m(2,1:end), 0) + diag(m(3,1:end-1), 1);\n",
    "    \n",
    "    x1 = rand(n,1);   % Lösungsvektor\n",
    "    b = A*x1;                   % rechte Seite des LGS\n",
    "    \n",
    "    LR = LUT(m);\n",
    "    x2 = fbSubsT(LR, b);\n",
    "    \n",
    "    assert(norm(x1-x2) < 1e-10)\n",
    "end"
   ]
  },
  {
   "cell_type": "markdown",
   "metadata": {},
   "source": [
    "### Aufgabe 3"
   ]
  },
  {
   "cell_type": "markdown",
   "metadata": {},
   "source": [
    "Wenden Sie die oben implementierten Algorithmen auf das in der Einleitung genannte RWP an, plotten Sie die numerische Lösung zusammen mit der exakten Lösung. Die tridiagonale Matrix des LGS ist nun gegeben durch die finite Differenzen Diskretisierung (Beispiel 2.6 im Skript)."
   ]
  },
  {
   "cell_type": "markdown",
   "metadata": {},
   "source": [
    "Diskretisierung des Intervalls"
   ]
  },
  {
   "cell_type": "code",
   "execution_count": null,
   "metadata": {},
   "outputs": [],
   "source": [
    "n = 100;\n",
    "x = linspace(0,1,n+1);"
   ]
  },
  {
   "cell_type": "code",
   "execution_count": null,
   "metadata": {},
   "outputs": [],
   "source": [
    "% Dirichlet Randwerte\n",
    "u0 = <<snipp>>\n",
    "un = <<snipp>>"
   ]
  },
  {
   "cell_type": "code",
   "execution_count": null,
   "metadata": {},
   "outputs": [],
   "source": [
    "% System Matrix\n",
    "A = zeros(3,n-1);\n",
    "A(1,2:end) = <<snipp>>;\n",
    "A(2,:) = <<snipp>>;\n",
    "A(3,1:end-1) = <<snipp>>;"
   ]
  },
  {
   "cell_type": "markdown",
   "metadata": {},
   "source": [
    "Im Beispiel benutzen wir $f(x) = 1$."
   ]
  },
  {
   "cell_type": "code",
   "execution_count": null,
   "metadata": {},
   "outputs": [],
   "source": [
    "% Rechte Seite\n",
    "h = 1./n;\n",
    "b = <<snipp>>;\n",
    "b(1) = <<snipp>>;\n",
    "b(end) = <<snipp>>;"
   ]
  },
  {
   "cell_type": "markdown",
   "metadata": {},
   "source": [
    "Lösung berechnen und visualisieren:"
   ]
  },
  {
   "cell_type": "code",
   "execution_count": null,
   "metadata": {},
   "outputs": [],
   "source": [
    "LR = LUT(A);\n",
    "u = zeros(n+1,1);\n",
    "u(1) = u0;   % Randwert links\n",
    "u(end) = un;  % Randwert rechts\n",
    "u(2:end-1) = fbSubsT(LR, b);\n",
    "\n",
    "ue = -0.5*x.*(x-1); % Loesung von u''(x) = 1, u(0) = u(1) = 0\n",
    "\n",
    "plot(x, u)\n",
    "hold on\n",
    "plot(x, ue,'--')\n",
    "grid()"
   ]
  }
 ],
 "metadata": {
  "kernelspec": {
   "display_name": "MATLAB",
   "language": "matlab",
   "name": "imatlab"
  },
  "language_info": {
   "codemirror_mode": "octave",
   "file_extension": ".m",
   "mimetype": "text/x-matlab",
   "name": "matlab",
   "nbconvert_exporter": "imatlab._exporter.MatlabExporter",
   "pygments_lexer": "matlab",
   "version": "9.8.0.1323502 (R2020a)"
  },
  "nbsphinx": {
   "execute": "never"
  }
 },
 "nbformat": 4,
 "nbformat_minor": 4
}
