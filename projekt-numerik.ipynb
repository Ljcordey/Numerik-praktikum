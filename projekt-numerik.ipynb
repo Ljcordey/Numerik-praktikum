{
 "cells": [
  {
   "cell_type": "markdown",
   "metadata": {},
   "source": [
    "# ***projekt numerik***"
   ]
  },
  {
   "cell_type": "code",
   "execution_count": 1,
   "metadata": {},
   "outputs": [],
   "source": [
    "import numpy as np\n",
    "from matplotlib import pyplot as plt\n",
    "import constants as cst"
   ]
  },
  {
   "cell_type": "markdown",
   "metadata": {},
   "source": [
    "## ***Implicit model***"
   ]
  },
  {
   "cell_type": "code",
   "execution_count": 2,
   "metadata": {},
   "outputs": [],
   "source": [
    "# delta's discretisation\n",
    "\n",
    "delta_t = 0.5\n",
    "delta_r = 0.5\n",
    "n = 4\n",
    "def t_i(i):\n",
    "    return i*delta_t\n",
    "\n",
    "def r_j(j):\n",
    "    return j*delta_r\n",
    "\n",
    "#T_i_plus_one = np.zeros((n-1,n-1))\n"
   ]
  },
  {
   "cell_type": "code",
   "execution_count": 4,
   "metadata": {},
   "outputs": [],
   "source": [
    "#Dichte nach Radius\n",
    "\n",
    "def rho(r):\n",
    "\n",
    "    dichte;\n",
    "\n",
    "    if(r>= 0 or r <= 25):\n",
    "        dichte = cst.WASSER[0]\n",
    "\n",
    "    if((r>= 25 or r <= 30) or (r>= 55 or r<=60) ):\n",
    "        dichte =cst.STAHL[0]\n",
    "\n",
    "    if(r>= 30 or r <= 55):\n",
    "        dichte = cst.GLASSWOLLE[0]\n",
    "\n",
    "    return dichte\n",
    "\n",
    "# Wärmekapazität nach Radius\n",
    "def c_p(r):\n",
    "\n",
    "    cap;\n",
    "\n",
    "    if(r>= 0 or r <= 25):\n",
    "        cap = cst.WASSER[1]\n",
    "\n",
    "    if((r>= 25 or r <= 30) or (r>= 55 or r<=60)):\n",
    "        cap = cst.STAHL[1]\n",
    "\n",
    "    if(r>= 30 or r <= 55):\n",
    "        cap = cst.GLASSWOLLE[1]\n",
    "\n",
    "    return cap\n",
    "\n",
    "\n",
    "#Wärmeleitungskonstante nach Radius\n",
    "def Lambda(r):\n",
    "\n",
    "    lam;\n",
    "\n",
    "    if(r>= 0 or r <= 25):\n",
    "        lam = cst.WASSER[2]\n",
    "\n",
    "    if((r>= 25 or r <= 30) or (r>= 55 or r<=60) ):\n",
    "        lam = cst.STAHL[2]\n",
    "\n",
    "    if(r>= 30 or r <= 55):\n",
    "        lam = cst.GLASSWOLLE[2]\n",
    "\n",
    "    return lam"
   ]
  },
  {
   "cell_type": "code",
   "execution_count": 5,
   "metadata": {},
   "outputs": [
    {
     "ename": "SyntaxError",
     "evalue": "invalid syntax (<ipython-input-5-2fdf87568bc6>, line 15)",
     "output_type": "error",
     "traceback": [
      "\u001b[1;36m  File \u001b[1;32m\"<ipython-input-5-2fdf87568bc6>\"\u001b[1;36m, line \u001b[1;32m15\u001b[0m\n\u001b[1;33m    return t_i_p1\u001b[0m\n\u001b[1;37m         ^\u001b[0m\n\u001b[1;31mSyntaxError\u001b[0m\u001b[1;31m:\u001b[0m invalid syntax\n"
     ]
    }
   ],
   "source": [
    "# function definition for explicit solution\n",
    "\n",
    "def T_i_p1(T_i,n):\n",
    "\n",
    "    t_i_p1 = []\n",
    "\n",
    "    #add to T_i,j the follow up values, iterating on the value J=1 to J = n-1\n",
    "    for j in range (1, n - 1):\n",
    "    # first and second derivatives respective to r\n",
    "        T_prime = T_i[j+1]-T_i[j]/(delta_r)\n",
    "        T_prime_2 = T_i[j+1]-2*T_i[j]+T_i[j-1]/(delta_r**2)\n",
    "\n",
    "        t_i_p1.append( T_i[j] + delta_t / (r_j(j) * c_p(r_(j)) * rho(r_j(j)) * (Lambda(j) * (T_prime+r(j) * T_prime_2)) )\n",
    "\n",
    "    return t_i_p1"
   ]
  }
 ],
 "metadata": {
  "interpreter": {
   "hash": "6d2f83be7e1419e852f964e88f0df206ed730d990b68b06ce162129225520e5d"
  },
  "kernelspec": {
   "display_name": "Python 3.7.3 ('base')",
   "language": "python",
   "name": "python3"
  },
  "language_info": {
   "codemirror_mode": {
    "name": "ipython",
    "version": 3
   },
   "file_extension": ".py",
   "mimetype": "text/x-python",
   "name": "python",
   "nbconvert_exporter": "python",
   "pygments_lexer": "ipython3",
   "version": "3.7.3"
  },
  "orig_nbformat": 4
 },
 "nbformat": 4,
 "nbformat_minor": 2
}
