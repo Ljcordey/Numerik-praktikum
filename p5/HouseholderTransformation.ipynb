{
 "cells": [
  {
   "cell_type": "markdown",
   "metadata": {},
   "source": [
    "# Householder-Transformation schrittweise"
   ]
  },
  {
   "cell_type": "code",
   "execution_count": 80,
   "metadata": {},
   "outputs": [],
   "source": [
    "import numpy as np\n",
    "from numpy.linalg import norm\n",
    "from numpy.linalg import cond\n"
   ]
  },
  {
   "cell_type": "markdown",
   "metadata": {},
   "source": [
    "Die allgemeine Schreibweise der Householder-Transformation für einen beliebigen Vektor $w$ ist gegeben durch\n",
    "\\begin{equation} H(w) = \\text{id} - 2\\,\\frac{w\\cdot w^T}{\\langle w, w\\rangle}\n",
    "\\end{equation}\n",
    "wobei $w\\cdot w^T$ das Kroneckerprodukt\n",
    "$$w\\cdot w^T = (w_i\\,w_j)_{i,j=1\\ldots m}\\in\\mathbb{R}^{m\\times m}$$\n",
    "sei."
   ]
  },
  {
   "cell_type": "code",
   "execution_count": 81,
   "metadata": {},
   "outputs": [],
   "source": [
    "# Selber implementieren\n",
    "def HouseholderTransformation(w):\n",
    "    size = w.shape[0]\n",
    "\n",
    "    id = np.eye(size)\n",
    "    kronecker = np.outer(w,w)\n",
    "    dot = np.dot(w,w)\n",
    "\n",
    "\n",
    "    return id-2*(kronecker/dot)"
   ]
  },
  {
   "cell_type": "markdown",
   "metadata": {},
   "source": [
    "Gesucht ist der geeignete Normalenvektor so, dass der gespiegelte Spaltenvektor auf die $e_1$ Achse zu liegen kommt. Sei mit $y$ der Spaltenvektor bezeichnet, so kann man zeigen (siehe Skript), dass der Vektor\n",
    "\\begin{equation}\n",
    "w = y \\pm \\|y\\|_2 e_1\n",
    "\\end{equation}\n",
    "die gewünschte Eigenschaft hat. Um **Auslöschung** in der Berechnung von $w$ zu vermeiden, wählt man\n",
    "\\begin{equation}\n",
    "w = y + \\text{sign}(y_1) \\|y\\|_2 e_1\n",
    "\\end{equation}\n",
    "mit\n",
    "\\begin{equation}\n",
    "\\text{sign}(s) = \\begin{cases} 1 & \\quad \\text{für} s \\ge 0\\\\ -1 & \\quad \\text{sonst}.\\end{cases}\n",
    "\\end{equation}"
   ]
  },
  {
   "cell_type": "code",
   "execution_count": 82,
   "metadata": {},
   "outputs": [],
   "source": [
    "def mysign(x): # numpy sign liefert 0 für 0\n",
    "    if x >= 0:\n",
    "        return 1\n",
    "    else:\n",
    "        return -1"
   ]
  },
  {
   "cell_type": "markdown",
   "metadata": {},
   "source": [
    "Funktion für den n-dimensionalen Einheitsvektor"
   ]
  },
  {
   "cell_type": "code",
   "execution_count": 83,
   "metadata": {},
   "outputs": [],
   "source": [
    "def e(n):\n",
    "    return np.array([1]+[0 for k in range(n-1)])"
   ]
  },
  {
   "cell_type": "markdown",
   "metadata": {},
   "source": [
    "Mit Hilfe der Householder-Transformation soll nun die Matrix $A$ in eine orthogonale Matrix $Q$ und reguläre obere Dreiecksmatrix $R$ zerlegt werden. Im Beispiel wählen wir eine zufällige Matrix $A \\in \\mathbb{R}^{10\\times5}$."
   ]
  },
  {
   "cell_type": "code",
   "execution_count": 84,
   "metadata": {},
   "outputs": [],
   "source": [
    "A = np.array([[-1,  7, -8, -9,  6],\n",
    "       [-6, -8,  0,  3,  8],\n",
    "       [-4, -2,  8,  0, -2],\n",
    "       [-1, -9,  4, -8,  2],\n",
    "       [-3, -5, -5,  7, -4],\n",
    "       [-7, -4,  7, -1,  5],\n",
    "       [-9, -7,  6, -5, -8],\n",
    "       [-4, -3, -5,  3, -6],\n",
    "       [ 5,  7,  5, -4, -5],\n",
    "       [ 4, -6, -8, -2, -5]],dtype=float)\n",
    "m,n = A.shape"
   ]
  },
  {
   "cell_type": "markdown",
   "metadata": {},
   "source": [
    "### 1. Spalte"
   ]
  },
  {
   "cell_type": "code",
   "execution_count": 85,
   "metadata": {},
   "outputs": [],
   "source": [
    "k = 0"
   ]
  },
  {
   "cell_type": "markdown",
   "metadata": {},
   "source": [
    "Die Hyperebene ist definiert durch"
   ]
  },
  {
   "cell_type": "code",
   "execution_count": 86,
   "metadata": {},
   "outputs": [],
   "source": [
    "w = A[k:,k]+np.linalg.norm(A[k:,k], axis=0)*e(m-k)*mysign(A[k,k])\n"
   ]
  },
  {
   "cell_type": "markdown",
   "metadata": {},
   "source": [
    "Für die Householder-Transformationsmatrix angewand auf $A$ erhalten wir"
   ]
  },
  {
   "cell_type": "code",
   "execution_count": 87,
   "metadata": {},
   "outputs": [],
   "source": [
    "Q1 = HouseholderTransformation(w)\n",
    "A1 = Q1@A"
   ]
  },
  {
   "cell_type": "markdown",
   "metadata": {},
   "source": [
    "In der ersten Spalte der Zwischenmatrix $A_1$ stehen nun abgesehen vom ersten Eintrag Nullen:"
   ]
  },
  {
   "cell_type": "code",
   "execution_count": 88,
   "metadata": {},
   "outputs": [
    {
     "name": "stdout",
     "output_type": "stream",
     "text": [
      "[[ 15.8114  11.8269  -6.5143  -0.6325  -1.2649]\n",
      " [ -0.      -6.2773   0.5303   5.9864   5.4071]\n",
      " [ -0.      -0.8515   8.3535   1.9909  -3.7286]\n",
      " [ -0.      -8.7129   4.0884  -7.5023   1.5679]\n",
      " [ -0.      -4.1386  -4.7349   8.4932  -5.2964]\n",
      " [ -0.      -1.9901   7.6186   2.4841   1.975 ]\n",
      " [ -0.      -4.4159   6.7954  -0.5204 -11.8893]\n",
      " [ -0.      -1.8515  -4.6465   4.9909  -7.7286]\n",
      " [  0.       5.5644   4.5581  -6.4887  -2.8393]\n",
      " [  0.      -7.1485  -8.3535  -3.9909  -3.2714]]\n"
     ]
    }
   ],
   "source": [
    "print(np.round(A1,4))"
   ]
  },
  {
   "cell_type": "markdown",
   "metadata": {},
   "source": [
    "### 2. Spalte "
   ]
  },
  {
   "cell_type": "code",
   "execution_count": 89,
   "metadata": {},
   "outputs": [],
   "source": [
    "k = 1"
   ]
  },
  {
   "cell_type": "markdown",
   "metadata": {},
   "source": [
    "Die Hyperebene ist definiert durch"
   ]
  },
  {
   "cell_type": "code",
   "execution_count": 90,
   "metadata": {},
   "outputs": [],
   "source": [
    "w = A1[k:,k]+np.linalg.norm(A1[k:,k], axis=0)*e(m-k)*mysign(A1[k,k])"
   ]
  },
  {
   "cell_type": "markdown",
   "metadata": {},
   "source": [
    "wobei nun das letzte Resultat $A_1$ benutzt wird. Die Householder-Transformationsmatrix wird nun nur auf die Submatrix von $A_1$ angewand und in der Submatrix von $A_1$ wiederum gespeichert:"
   ]
  },
  {
   "cell_type": "code",
   "execution_count": 91,
   "metadata": {},
   "outputs": [],
   "source": [
    "Q2 = HouseholderTransformation(w)\n",
    "A1[k:,k:] = Q2@A1[k:,k:]"
   ]
  },
  {
   "cell_type": "markdown",
   "metadata": {},
   "source": [
    "Die Dimension der zweiten Householder-Transformationsmatrix $Q_2$ ist"
   ]
  },
  {
   "cell_type": "code",
   "execution_count": 92,
   "metadata": {},
   "outputs": [
    {
     "data": {
      "text/plain": [
       "(9, 9)"
      ]
     },
     "execution_count": 92,
     "metadata": {},
     "output_type": "execute_result"
    }
   ],
   "source": [
    "Q2.shape"
   ]
  },
  {
   "cell_type": "markdown",
   "metadata": {},
   "source": [
    "In dem ersten beiden Spalte der Zwischenmatrix $A_1$ steht:"
   ]
  },
  {
   "cell_type": "code",
   "execution_count": 93,
   "metadata": {},
   "outputs": [
    {
     "name": "stdout",
     "output_type": "stream",
     "text": [
      "[[ 15.8114  11.8269  -6.5143  -0.6325  -1.2649]\n",
      " [ -0.      15.5603   1.4167  -1.8329   3.0822]\n",
      " [ -0.       0.       8.3881   1.686   -3.8192]\n",
      " [ -0.       0.       4.442  -10.622    0.6402]\n",
      " [ -0.       0.      -4.5669   7.0113  -5.737 ]\n",
      " [ -0.      -0.       7.6994   1.7715   1.7631]\n",
      " [ -0.       0.       6.9746  -2.1016 -12.3594]\n",
      " [ -0.      -0.      -4.5713   4.328   -7.9257]\n",
      " [  0.      -0.       4.3323  -4.4962  -2.2469]\n",
      " [  0.       0.      -8.0633  -6.5505  -4.0325]]\n"
     ]
    }
   ],
   "source": [
    "print(np.round(A1,4))"
   ]
  },
  {
   "cell_type": "markdown",
   "metadata": {},
   "source": [
    "### 3. - 5. Spalte "
   ]
  },
  {
   "cell_type": "markdown",
   "metadata": {},
   "source": [
    "Wir automatisieren nun den Prozess und überschreiben die Submatrizen der Matrix $A_1$ sukzessive:"
   ]
  },
  {
   "cell_type": "code",
   "execution_count": 94,
   "metadata": {},
   "outputs": [
    {
     "name": "stdout",
     "output_type": "stream",
     "text": [
      "Spalte 3\n",
      "[[ 15.8114  11.8269  -6.5143  -0.6325  -1.2649]\n",
      " [ -0.      15.5603   1.4167  -1.8329   3.0822]\n",
      " [ -0.       0.     -17.9877   2.92     0.9232]\n",
      " [ -0.       0.       0.     -10.4142   1.4389]\n",
      " [ -0.       0.       0.       6.7976  -6.5582]\n",
      " [ -0.      -0.      -0.       2.1317   3.1475]\n",
      " [ -0.       0.       0.      -1.7753 -11.1054]\n",
      " [ -0.      -0.       0.       4.1141  -8.7476]\n",
      " [  0.      -0.      -0.      -4.2936  -1.4679]\n",
      " [  0.       0.       0.      -6.9278  -5.4823]]\n",
      "Spalte 4\n",
      "[[ 15.8114  11.8269  -6.5143  -0.6325  -1.2649]\n",
      " [ -0.      15.5603   1.4167  -1.8329   3.0822]\n",
      " [ -0.       0.     -17.9877   2.92     0.9232]\n",
      " [ -0.       0.       0.      15.6753  -1.5851]\n",
      " [ -0.       0.       0.      -0.      -5.7703]\n",
      " [ -0.      -0.      -0.      -0.       3.3946]\n",
      " [ -0.       0.       0.       0.     -11.3111]\n",
      " [ -0.      -0.       0.       0.      -8.2708]\n",
      " [  0.      -0.      -0.       0.      -1.9656]\n",
      " [  0.       0.       0.       0.      -6.2853]]\n",
      "Spalte 5\n",
      "[[ 15.8114  11.8269  -6.5143  -0.6325  -1.2649]\n",
      " [ -0.      15.5603   1.4167  -1.8329   3.0822]\n",
      " [ -0.       0.     -17.9877   2.92     0.9232]\n",
      " [ -0.       0.       0.      15.6753  -1.5851]\n",
      " [ -0.       0.       0.      -0.      16.8682]\n",
      " [ -0.      -0.      -0.      -0.      -0.    ]\n",
      " [ -0.       0.       0.       0.       0.    ]\n",
      " [ -0.      -0.       0.       0.       0.    ]\n",
      " [  0.      -0.      -0.       0.       0.    ]\n",
      " [  0.       0.       0.       0.       0.    ]]\n"
     ]
    }
   ],
   "source": [
    "for k in range(2,n):\n",
    "    print('Spalte '+str(k+1))\n",
    "    w = A1[k:,k]+np.linalg.norm(A1[k:,k], axis=0)*e(m-k)*mysign(A1[k,k])\n",
    "    Qk = HouseholderTransformation(w)\n",
    "    A1[k:,k:] = Qk@A1[k:,k:]\n",
    "    print(np.round(A1,4))"
   ]
  },
  {
   "cell_type": "markdown",
   "metadata": {},
   "source": [
    "### Q, R berechnen"
   ]
  },
  {
   "cell_type": "markdown",
   "metadata": {},
   "source": [
    "- Berechnen sie abschliessend $Q,R$ so, dass $Q\\cdot R = A$ gilt.\n",
    "- Vergleichen Sie Ihr Resultat mit der Funktion von NumPy."
   ]
  },
  {
   "cell_type": "code",
   "execution_count": 95,
   "metadata": {},
   "outputs": [
    {
     "data": {
      "text/plain": [
       "2.39058310879836"
      ]
     },
     "execution_count": 95,
     "metadata": {},
     "output_type": "execute_result"
    }
   ],
   "source": [
    "cond(A)"
   ]
  },
  {
   "cell_type": "code",
   "execution_count": 96,
   "metadata": {},
   "outputs": [],
   "source": [
    "A1 = A.copy()\n",
    "QT = np.eye(m)\n",
    "for k in range(0,n):\n",
    "    w = A1[k:,k]+np.linalg.norm(A1[k:,k], axis=0)*e(m-k)*mysign(A1[k,k])\n",
    "    Qk = HouseholderTransformation(w)\n",
    "    A1[k:,k:] = Qk@A1[k:,k:]\n",
    "    Q_trans = np.eye(m)\n",
    "    Q_trans[k:,k:] = Qk\n",
    "    QT = Q_trans@QT\n"
   ]
  },
  {
   "cell_type": "code",
   "execution_count": 104,
   "metadata": {},
   "outputs": [
    {
     "name": "stdout",
     "output_type": "stream",
     "text": [
      "2.390583108798361\n",
      "(10, 10)\n",
      "(10, 5)\n"
     ]
    },
    {
     "data": {
      "text/plain": [
       "1.4334856879248995e-14"
      ]
     },
     "execution_count": 104,
     "metadata": {},
     "output_type": "execute_result"
    }
   ],
   "source": [
    "\n",
    "Q = QT.T\n",
    "R = A1\n",
    "\n",
    "print(cond(R))\n",
    "print(Q.shape)\n",
    "print(R.shape)\n",
    "\n",
    "#print(np.round(A-Q@R,4))\n",
    "norm(A-Q@R)"
   ]
  },
  {
   "cell_type": "code",
   "execution_count": 103,
   "metadata": {},
   "outputs": [
    {
     "name": "stdout",
     "output_type": "stream",
     "text": [
      "2.39058310879836\n"
     ]
    },
    {
     "data": {
      "text/plain": [
       "7.954902093447287e-15"
      ]
     },
     "execution_count": 103,
     "metadata": {},
     "output_type": "execute_result"
    }
   ],
   "source": [
    "Q,R = np.linalg.qr(A)\n",
    "print(cond(R))\n",
    "\n",
    "norm(A-Q@R)"
   ]
  },
  {
   "cell_type": "code",
   "execution_count": 99,
   "metadata": {},
   "outputs": [
    {
     "data": {
      "text/plain": [
       "(10, 5)"
      ]
     },
     "execution_count": 99,
     "metadata": {},
     "output_type": "execute_result"
    }
   ],
   "source": [
    "Q.shape"
   ]
  },
  {
   "cell_type": "code",
   "execution_count": 100,
   "metadata": {},
   "outputs": [
    {
     "data": {
      "text/plain": [
       "(5, 5)"
      ]
     },
     "execution_count": 100,
     "metadata": {},
     "output_type": "execute_result"
    }
   ],
   "source": [
    "R.shape"
   ]
  },
  {
   "cell_type": "markdown",
   "metadata": {},
   "source": [
    "Frage: Warum reicht diese reduzierte $Q$ und $R$ Matrix?"
   ]
  },
  {
   "cell_type": "markdown",
   "metadata": {},
   "source": [
    "## answer\n",
    "while the householder method can be more robust, we can see that in this case the condition number from the R in the householder matrix is not exactly the same as the one for A, but with the python implementation it is exactly the same condition number.\n",
    "\n",
    "the python implementation is a bit more precise, but the householder is not that bad in this situation overall.\n",
    "\n",
    "in this case, doing the householder takes more computing power, since we are operating with a matrix that is double in size line-wise, while the python implementation takes less operations to do a better job, thus it is, in this case, the better method.\n"
   ]
  },
  {
   "cell_type": "markdown",
   "metadata": {},
   "source": []
  }
 ],
 "metadata": {
  "kernelspec": {
   "display_name": "Python 3",
   "language": "python",
   "name": "python3"
  },
  "language_info": {
   "codemirror_mode": {
    "name": "ipython",
    "version": 3
   },
   "file_extension": ".py",
   "mimetype": "text/x-python",
   "name": "python",
   "nbconvert_exporter": "python",
   "pygments_lexer": "ipython3",
   "version": "3.7.3"
  },
  "nbsphinx": {
   "execute": "never"
  }
 },
 "nbformat": 4,
 "nbformat_minor": 4
}
