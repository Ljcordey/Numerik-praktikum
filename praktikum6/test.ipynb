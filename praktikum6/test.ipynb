{
 "cells": [
  {
   "cell_type": "code",
   "execution_count": 1,
   "metadata": {},
   "outputs": [],
   "source": [
    "import numpy as np\n",
    "from matplotlib import pyplot as plt\n",
    "from numpy.linalg import norm\n",
    "from scipy.linalg import lu, solve_triangular\n",
    "from sympy import atan, sin, acos, cos, Matrix\n",
    "from sympy.abc import rho, phi"
   ]
  },
  {
   "cell_type": "markdown",
   "metadata": {},
   "source": [
    "Initially, we established the $f(\\theta,\\phi)=(x,y)$ function for the position of the robots arm, depending on the respective angles for the arm $L_1$ and $L_2$.\n",
    "With a simple projection onto the $x-y$ axis, we establish the equations for the position of the first joint of the robot arm: \n",
    "\n",
    "$$\n",
    "x_1 = L_1cos(\\theta_1) \\\\\n",
    "y_1 = L_1sin(\\theta_1)\n",
    "$$\n",
    "\n",
    "Since the second robotic arm is linked to the first, we can do a translation of angles which yields the final cinematic equation:\n",
    "$$\n",
    "x_2 = x_1 + L_2cos(\\theta_1+\\theta_2) \\\\\n",
    "y_2 = y_1 + L_2sin(\\theta_1+\\theta_2)\n",
    "$$\n",
    "\n",
    "But in our case, we want to have the inverse function $f^{-1}(x,y)=(\\theta_1,\\theta_2)$.\n"
   ]
  },
  {
   "cell_type": "code",
   "execution_count": 2,
   "metadata": {},
   "outputs": [],
   "source": [
    "#def\n",
    "\n",
    "L1 = 2\n",
    "L2 = 1\n",
    "\n",
    "# def des positions pour le calcul\n",
    "\n",
    "x = 3\n",
    "y = 0"
   ]
  },
  {
   "cell_type": "code",
   "execution_count": 3,
   "metadata": {},
   "outputs": [
    {
     "data": {
      "text/plain": [
       "'\\n#forward kinematik\\ndef g(THETA):\\n\\n    # extracting x,y values from the array\\n    theta1 = THETA[0]\\n    theta2 = THETA[1]\\n\\n    val1 = L1*np.cos(theta1)+L2*np.cos(theta1+theta2)-x\\n    val2 = L1*np.sin(theta1)+L2*np.sin(theta1+theta2)-y\\n\\n    return np.array([val1,val2])\\n\\n'"
      ]
     },
     "execution_count": 3,
     "metadata": {},
     "output_type": "execute_result"
    }
   ],
   "source": [
    "\"\"\"\n",
    "#forward kinematik\n",
    "def g(THETA):\n",
    "\n",
    "    # extracting x,y values from the array\n",
    "    theta1 = THETA[0]\n",
    "    theta2 = THETA[1]\n",
    "\n",
    "    val1 = L1*np.cos(theta1)+L2*np.cos(theta1+theta2)-x\n",
    "    val2 = L1*np.sin(theta1)+L2*np.sin(theta1+theta2)-y\n",
    "\n",
    "    return np.array([val1,val2])\n",
    "\n",
    "\"\"\""
   ]
  },
  {
   "cell_type": "markdown",
   "metadata": {},
   "source": [
    "### $f^{-1}(x,y)=(\\theta_1,\\theta_2)$.\n",
    "\n",
    "in this case, we use the cosinus law $a^2 +b^2-2abcos(\\theta) = r^2$ to put into relationship the angles and the length of the triangle system made by the arms of the robot.\n",
    "\n",
    "In this case:\n",
    "$$\n",
    "\\theta_1 = tan^{-1}(y/x) + tan^{-1}(L_2sin(\\theta_2)/(L_1+L_2*cos(theta_2))) \\\\\n",
    "\\theta_2 = cos^1((x^2+y^2-L_1^2-L_2^2)/(2*L_1*L_2))\n",
    "$$\n",
    "\n",
    "The problem has a symmetry in the solutions, for one given point $x-y$ there can be two set of angles (symmetry of $180^o$) for the arms as solutions, we chose one of the potential answers.\n",
    "\n",
    "we transform then into \n",
    "$$\n",
    " 0 = tan^{-1}(y/x) + tan^{-1}(L_2sin(\\theta_2)/(L_1+L_2*cos(theta_2))) -\\theta_1\\\\\n",
    " 0 = cos^1((x^2+y^2-L_1^2-L_2^2)/(2*L_1*L_2))-\\theta_2\n",
    "$$\n",
    " "
   ]
  },
  {
   "cell_type": "code",
   "execution_count": 4,
   "metadata": {},
   "outputs": [],
   "source": [
    "#backward kinematik\n",
    "\n",
    "def g(THETA): \n",
    "\n",
    "    # extracting x,y values from the array\n",
    "    \n",
    "    theta1 = THETA[0]\n",
    "    theta2 = THETA[1]\n",
    "\n",
    "    val1 = np.arctan(y/x)-np.arctan(L2*np.sin(theta2)/(L1+L2*np.cos(theta2)))-theta1\n",
    "    val2 = np.arccos((x**2+y**2-L1**2-L2**2)/(2*L1*L2))-theta2\n",
    "\n",
    "    return np.array([val1,val2])\n"
   ]
  },
  {
   "cell_type": "code",
   "execution_count": 5,
   "metadata": {},
   "outputs": [
    {
     "data": {
      "text/plain": [
       "'\\ndef dg(THETA): #forward kinematik\\n\\n    # extr\\n    # acting x,y values from the array\\n    theta1 = THETA[0]\\n    theta2 = THETA[1] \\n\\n    return np.array([[-L1*np.sin(theta1)-L2*np.sin(theta1+theta2), -L2*np.sin(theta1+theta2)],\\n                    [L1*np.cos(theta1)-L2*np.cos(theta1+theta2), L2*np.cos(theta1+theta2)]])\\n'"
      ]
     },
     "execution_count": 5,
     "metadata": {},
     "output_type": "execute_result"
    }
   ],
   "source": [
    "# jacobi matrix definition for g(X)\n",
    "\"\"\"\n",
    "def dg(THETA): #forward kinematik\n",
    "\n",
    "    # extr\n",
    "    # acting x,y values from the array\n",
    "    theta1 = THETA[0]\n",
    "    theta2 = THETA[1] \n",
    "\n",
    "    return np.array([[-L1*np.sin(theta1)-L2*np.sin(theta1+theta2), -L2*np.sin(theta1+theta2)],\n",
    "                    [L1*np.cos(theta1)-L2*np.cos(theta1+theta2), L2*np.cos(theta1+theta2)]])\n",
    "\"\"\""
   ]
  },
  {
   "cell_type": "markdown",
   "metadata": {},
   "source": [
    "Since we are lazy, we used sympy to symbolicaly compute the Jacobian of $g(\\theta)$"
   ]
  },
  {
   "cell_type": "code",
   "execution_count": 6,
   "metadata": {},
   "outputs": [
    {
     "name": "stdout",
     "output_type": "stream",
     "text": [
      "Matrix([[-1, -sin(phi)*atan(sin(phi))/(cos(phi) + 2)**2 - cos(phi)/((sin(phi)**2 + 1)*(cos(phi) + 2))], [0, -1]])\n"
     ]
    }
   ],
   "source": [
    "# This code uses the sympy library to compute symbolically the jacobi matrix. rho and phi are respectively the angles theta1 and theta2.\n",
    "\n",
    "X = Matrix([atan(y/x)-atan(L2*sin(phi))/(L1+L2*cos(phi))-rho, acos(x**2+y**2-L1**2-L2**2/(2*L1*L2))-phi])\n",
    "Y = Matrix([rho,phi])\n",
    "\n",
    "print(X.jacobian(Y))"
   ]
  },
  {
   "cell_type": "code",
   "execution_count": 7,
   "metadata": {},
   "outputs": [],
   "source": [
    "def dg(THETA): #backward kinematik\n",
    "\n",
    "    # extracting x,y values from the array\n",
    "    #theta1 = THETA[0]\n",
    "    theta2 = THETA[1] \n",
    "\n",
    "    return np.array([[-1, -np.sin(theta2)*np.arctan(np.sin(theta2))/(np.cos(theta2) + 2)**2 - np.cos(theta2)/((np.sin(theta2)**2 + 1)*(np.cos(theta2) + 2))], [0, -1]])"
   ]
  },
  {
   "cell_type": "markdown",
   "metadata": {},
   "source": [
    "the jacobian is only dependent on the theta 2 value"
   ]
  },
  {
   "cell_type": "code",
   "execution_count": 8,
   "metadata": {},
   "outputs": [],
   "source": [
    "# initialisation\n",
    "\n",
    "tol = 1e-32 # Abbruchtoleranz\n",
    "N = 30      # max. Iterationen\n",
    "n = 0       # Iterationsschritt\n",
    "\n",
    "gamma = np.array([0.5,0.5]) # Startwert\n",
    "xN = [np.array(gamma)] \n"
   ]
  },
  {
   "cell_type": "code",
   "execution_count": 9,
   "metadata": {},
   "outputs": [
    {
     "name": "stdout",
     "output_type": "stream",
     "text": [
      "1 [-0.02816122  0.        ] 0.02816121518375525\n",
      "2 [0. 0.] 0.0\n"
     ]
    }
   ],
   "source": [
    "res = [norm(g(gamma),np.inf)]\n",
    "\n",
    "while (res[-1] > tol) and (n < N):\n",
    "    n +=1\n",
    "\n",
    "    # Lineares System lösen\n",
    "    A = dg(gamma)\n",
    "    b = g(gamma)\n",
    "    P,L,R = lu(A)  # oder mit QR\n",
    "    z = solve_triangular(L,P.T@b, lower = True)\n",
    "    delta = solve_triangular(R,z)\n",
    "\n",
    "    # Update x\n",
    "    gamma -= delta\n",
    "    res.append(norm(g(gamma),np.inf))\n",
    "    xN.append(np.array(gamma)) # Kopie speichern!\n",
    "    print(n,gamma,res[n])\n",
    "xN = np.array(xN)"
   ]
  },
  {
   "cell_type": "markdown",
   "metadata": {},
   "source": [
    "## konvergenzverhalten\n"
   ]
  },
  {
   "cell_type": "code",
   "execution_count": 10,
   "metadata": {},
   "outputs": [
    {
     "data": {
      "image/png": "[encoded data removed]",
      "text/plain": [
       "<Figure size 432x288 with 1 Axes>"
      ]
     },
     "metadata": {
      "needs_background": "light"
     },
     "output_type": "display_data"
    }
   ],
   "source": [
    "plt.semilogy(res, label='Newton-Verfahren')\n",
    "plt.grid()\n",
    "plt.legend()\n",
    "plt.xlabel('Iteration')\n",
    "plt.ylabel('Residuum')\n",
    "plt.tight_layout()\n",
    "plt.show()\n"
   ]
  },
  {
   "cell_type": "markdown",
   "metadata": {},
   "source": [
    "Whatever weird values i throw at it, whatever error I try to nudge into the newton method,our algorithm just carries on and converges in two steps, meaning the convergence could be quadratic following that for any first order zeroes $$a$$ $$\\log{|x_n-a|} \\leq 2^n \\log{K|x_0-a|} - \\log{K}$$\n",
    "also, it could come from the fact that I specifically chose a solution domain for our initial function $g(\\theta_1,\\theta_2)$ and only compute for those. Also I do not approximate the jacobian.\n",
    "\n",
    "SO, let's entertain that my algorithm isn't super robust for the argument sake:\n",
    "- i would need to be careful with the initial conditions, especially if they where suer close to the actual solutions or from the borders of the solutions space.\n",
    "\n",
    "In our case, the robot can only have values $$ x,y \\in [-3,3] \\cup (-1,1)]$$\n",
    "\n",
    "If we input out-of-bound values for x,y or for the thetas, the solution will not compute/converge.\n",
    "If our initial thetas are too close or too far away from the solutions it could fuck-up as well, by accumulating errors that push the solutions out of bounds. \n",
    "\n",
    "For a robust procedure, I would always exactly compute the derivative/jacobian, choose initial conditions that are not too close from the border of the solutions space and/or from the actual solution.\n",
    "\n",
    "We could also implement a dichotomic algorithm for the initial condition to test which ones are the more robust ones.\n",
    "\n",
    "\n",
    "\n",
    "\n"
   ]
  }
 ],
 "metadata": {
  "interpreter": {
   "hash": "7a6a964c472ecd7788e0ef576b897abcedceaec8f1e5eebacc311dcaa6241870"
  },
  "kernelspec": {
   "display_name": "Python 3.7.3 ('base')",
   "language": "python",
   "name": "python3"
  },
  "language_info": {
   "codemirror_mode": {
    "name": "ipython",
    "version": 3
   },
   "file_extension": ".py",
   "mimetype": "text/x-python",
   "name": "python",
   "nbconvert_exporter": "python",
   "pygments_lexer": "ipython3",
   "version": "3.7.3"
  },
  "orig_nbformat": 4
 },
 "nbformat": 4,
 "nbformat_minor": 2
}
