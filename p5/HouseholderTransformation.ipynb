{
 "cells": [
  {
   "cell_type": "markdown",
   "metadata": {},
   "source": [
    "# Householder-Transformation schrittweise"
   ]
  },
  {
   "cell_type": "code",
   "execution_count": 19,
   "metadata": {},
   "outputs": [],
   "source": [
    "import numpy as np\n",
    "from numpy.linalg import norm\n"
   ]
  },
  {
   "cell_type": "markdown",
   "metadata": {},
   "source": [
    "Die allgemeine Schreibweise der Householder-Transformation für einen beliebigen Vektor $w$ ist gegeben durch\n",
    "\\begin{equation} H(w) = \\text{id} - 2\\,\\frac{w\\cdot w^T}{\\langle w, w\\rangle}\n",
    "\\end{equation}\n",
    "wobei $w\\cdot w^T$ das Kroneckerprodukt\n",
    "$$w\\cdot w^T = (w_i\\,w_j)_{i,j=1\\ldots m}\\in\\mathbb{R}^{m\\times m}$$\n",
    "sei."
   ]
  },
  {
   "cell_type": "code",
   "execution_count": 24,
   "metadata": {},
   "outputs": [],
   "source": [
    "# Selber implementieren\n",
    "def HouseholderTransformation(w):\n",
    "    size = np.shape(w)\n",
    "\n",
    "    id = np.identity(size)\n",
    "    kronecker = w@w.T\n",
    "    dot = np.dot(w)\n",
    "\n",
    "\n",
    "    return id-2*(kronecker/dot)"
   ]
  },
  {
   "cell_type": "markdown",
   "metadata": {},
   "source": [
    "Gesucht ist der geeignete Normalenvektor so, dass der gespiegelte Spaltenvektor auf die $e_1$ Achse zu liegen kommt. Sei mit $y$ der Spaltenvektor bezeichnet, so kann man zeigen (siehe Skript), dass der Vektor\n",
    "\\begin{equation}\n",
    "w = y \\pm \\|y\\|_2 e_1\n",
    "\\end{equation}\n",
    "die gewünschte Eigenschaft hat. Um **Auslöschung** in der Berechnung von $w$ zu vermeiden, wählt man\n",
    "\\begin{equation}\n",
    "w = y + \\text{sign}(y_1) \\|y\\|_2 e_1\n",
    "\\end{equation}\n",
    "mit\n",
    "\\begin{equation}\n",
    "\\text{sign}(s) = \\begin{cases} 1 & \\quad \\text{für} s \\ge 0\\\\ -1 & \\quad \\text{sonst}.\\end{cases}\n",
    "\\end{equation}"
   ]
  },
  {
   "cell_type": "code",
   "execution_count": null,
   "metadata": {},
   "outputs": [],
   "source": [
    "def mysign(x): # numpy sign liefert 0 für 0\n",
    "    if x >= 0:\n",
    "        return 1\n",
    "    else:\n",
    "        return -1"
   ]
  },
  {
   "cell_type": "markdown",
   "metadata": {},
   "source": [
    "Funktion für den n-dimensionalen Einheitsvektor"
   ]
  },
  {
   "cell_type": "code",
   "execution_count": null,
   "metadata": {},
   "outputs": [],
   "source": [
    "def e(n):\n",
    "    return np.array([1]+[0 for k in range(n-1)])"
   ]
  },
  {
   "cell_type": "markdown",
   "metadata": {},
   "source": [
    "Mit Hilfe der Householder-Transformation soll nun die Matrix $A$ in eine orthogonale Matrix $Q$ und reguläre obere Dreiecksmatrix $R$ zerlegt werden. Im Beispiel wählen wir eine zufällige Matrix $A \\in \\mathbb{R}^{10\\times5}$."
   ]
  },
  {
   "cell_type": "code",
   "execution_count": 20,
   "metadata": {},
   "outputs": [],
   "source": [
    "A = np.array([[-1,  7, -8, -9,  6],\n",
    "       [-6, -8,  0,  3,  8],\n",
    "       [-4, -2,  8,  0, -2],\n",
    "       [-1, -9,  4, -8,  2],\n",
    "       [-3, -5, -5,  7, -4],\n",
    "       [-7, -4,  7, -1,  5],\n",
    "       [-9, -7,  6, -5, -8],\n",
    "       [-4, -3, -5,  3, -6],\n",
    "       [ 5,  7,  5, -4, -5],\n",
    "       [ 4, -6, -8, -2, -5]],dtype=float)\n",
    "m,n = A.shape"
   ]
  },
  {
   "cell_type": "markdown",
   "metadata": {},
   "source": [
    "### 1. Spalte"
   ]
  },
  {
   "cell_type": "code",
   "execution_count": 21,
   "metadata": {},
   "outputs": [],
   "source": [
    "k = 0"
   ]
  },
  {
   "cell_type": "markdown",
   "metadata": {},
   "source": [
    "Die Hyperebene ist definiert durch"
   ]
  },
  {
   "cell_type": "code",
   "execution_count": 22,
   "metadata": {},
   "outputs": [
    {
     "ename": "SyntaxError",
     "evalue": "invalid syntax (<ipython-input-22-4170876d6c4c>, line 1)",
     "output_type": "error",
     "traceback": [
      "\u001b[1;36m  File \u001b[1;32m\"<ipython-input-22-4170876d6c4c>\"\u001b[1;36m, line \u001b[1;32m1\u001b[0m\n\u001b[1;33m    w = <<snipp>>\u001b[0m\n\u001b[1;37m         ^\u001b[0m\n\u001b[1;31mSyntaxError\u001b[0m\u001b[1;31m:\u001b[0m invalid syntax\n"
     ]
    }
   ],
   "source": [
    "w = <<snipp>>"
   ]
  },
  {
   "cell_type": "markdown",
   "metadata": {},
   "source": [
    "Für die Householder-Transformationsmatrix angewand auf $A$ erhalten wir"
   ]
  },
  {
   "cell_type": "code",
   "execution_count": 23,
   "metadata": {},
   "outputs": [
    {
     "ename": "NameError",
     "evalue": "name 'HouseholderTransformation' is not defined",
     "output_type": "error",
     "traceback": [
      "\u001b[1;31m---------------------------------------------------------------------------\u001b[0m",
      "\u001b[1;31mNameError\u001b[0m                                 Traceback (most recent call last)",
      "\u001b[1;32m<ipython-input-23-bd1b9505084b>\u001b[0m in \u001b[0;36m<module>\u001b[1;34m\u001b[0m\n\u001b[1;32m----> 1\u001b[1;33m \u001b[0mQ1\u001b[0m \u001b[1;33m=\u001b[0m \u001b[0mHouseholderTransformation\u001b[0m\u001b[1;33m(\u001b[0m\u001b[0mw\u001b[0m\u001b[1;33m)\u001b[0m\u001b[1;33m\u001b[0m\u001b[1;33m\u001b[0m\u001b[0m\n\u001b[0m\u001b[0;32m      2\u001b[0m \u001b[0mA1\u001b[0m \u001b[1;33m=\u001b[0m \u001b[0mQ1\u001b[0m\u001b[1;33m@\u001b[0m\u001b[0mA\u001b[0m\u001b[1;33m\u001b[0m\u001b[1;33m\u001b[0m\u001b[0m\n",
      "\u001b[1;31mNameError\u001b[0m: name 'HouseholderTransformation' is not defined"
     ]
    }
   ],
   "source": [
    "Q1 = HouseholderTransformation(w)\n",
    "A1 = Q1@A"
   ]
  },
  {
   "cell_type": "markdown",
   "metadata": {},
   "source": [
    "In der ersten Spalte der Zwischenmatrix $A_1$ stehen nun abgesehen vom ersten Eintrag Nullen:"
   ]
  },
  {
   "cell_type": "code",
   "execution_count": null,
   "metadata": {},
   "outputs": [],
   "source": [
    "print(np.round(A1,4))"
   ]
  },
  {
   "cell_type": "markdown",
   "metadata": {},
   "source": [
    "### 2. Spalte "
   ]
  },
  {
   "cell_type": "code",
   "execution_count": null,
   "metadata": {},
   "outputs": [],
   "source": [
    "k = 1"
   ]
  },
  {
   "cell_type": "markdown",
   "metadata": {},
   "source": [
    "Die Hyperebene ist definiert durch"
   ]
  },
  {
   "cell_type": "code",
   "execution_count": 17,
   "metadata": {},
   "outputs": [
    {
     "ename": "SyntaxError",
     "evalue": "invalid syntax (<ipython-input-17-4170876d6c4c>, line 1)",
     "output_type": "error",
     "traceback": [
      "\u001b[1;36m  File \u001b[1;32m\"<ipython-input-17-4170876d6c4c>\"\u001b[1;36m, line \u001b[1;32m1\u001b[0m\n\u001b[1;33m    w = <<snipp>>\u001b[0m\n\u001b[1;37m         ^\u001b[0m\n\u001b[1;31mSyntaxError\u001b[0m\u001b[1;31m:\u001b[0m invalid syntax\n"
     ]
    }
   ],
   "source": [
    "w = <<snipp>>"
   ]
  },
  {
   "cell_type": "markdown",
   "metadata": {},
   "source": [
    "wobei nun das letzte Resultat $A_1$ benutzt wird. Die Householder-Transformationsmatrix wird nun nur auf die Submatrix von $A_1$ angewand und in der Submatrix von $A_1$ wiederum gespeichert:"
   ]
  },
  {
   "cell_type": "code",
   "execution_count": null,
   "metadata": {},
   "outputs": [],
   "source": [
    "Q2 = HouseholderTransformation(w)\n",
    "A1[k:,k:] = Q2@A1[k:,k:]"
   ]
  },
  {
   "cell_type": "markdown",
   "metadata": {},
   "source": [
    "Die Dimension der zweiten Householder-Transformationsmatrix $Q_2$ ist"
   ]
  },
  {
   "cell_type": "code",
   "execution_count": null,
   "metadata": {},
   "outputs": [],
   "source": [
    "Q2.shape"
   ]
  },
  {
   "cell_type": "markdown",
   "metadata": {},
   "source": [
    "In dem ersten beiden Spalte der Zwischenmatrix $A_1$ steht:"
   ]
  },
  {
   "cell_type": "code",
   "execution_count": null,
   "metadata": {},
   "outputs": [],
   "source": [
    "print(np.round(A1,4))"
   ]
  },
  {
   "cell_type": "markdown",
   "metadata": {},
   "source": [
    "### 3. - 5. Spalte "
   ]
  },
  {
   "cell_type": "markdown",
   "metadata": {},
   "source": [
    "Wir automatisieren nun den Prozess und überschreiben die Submatrizen der Matrix $A_1$ sukzessive:"
   ]
  },
  {
   "cell_type": "code",
   "execution_count": null,
   "metadata": {},
   "outputs": [],
   "source": [
    "for k in range(2,n):\n",
    "    print('Spalte '+str(k+1))\n",
    "    w = <<snipp>>\n",
    "    Qk = HouseholderTransformation(w)\n",
    "    A1[k:,k:] = <<snipp>>\n",
    "    print(np.round(A1,4))"
   ]
  },
  {
   "cell_type": "markdown",
   "metadata": {},
   "source": [
    "### Q, R berechnen"
   ]
  },
  {
   "cell_type": "markdown",
   "metadata": {},
   "source": [
    "- Berechnen sie abschliessend $Q,R$ so, dass $Q\\cdot R = A$ gilt.\n",
    "- Vergleichen Sie Ihr Resultat mit der Funktion von NumPy."
   ]
  },
  {
   "cell_type": "code",
   "execution_count": null,
   "metadata": {},
   "outputs": [],
   "source": [
    "Q,R = np.linalg.qr(A)"
   ]
  },
  {
   "cell_type": "code",
   "execution_count": null,
   "metadata": {},
   "outputs": [],
   "source": [
    "Q.shape"
   ]
  },
  {
   "cell_type": "code",
   "execution_count": null,
   "metadata": {},
   "outputs": [],
   "source": [
    "R.shape"
   ]
  },
  {
   "cell_type": "markdown",
   "metadata": {},
   "source": [
    "Frage: Warum reicht diese reduzierte $Q$ und $R$ Matrix?"
   ]
  }
 ],
 "metadata": {
  "kernelspec": {
   "display_name": "Python 3",
   "language": "python",
   "name": "python3"
  },
  "language_info": {
   "codemirror_mode": {
    "name": "ipython",
    "version": 3
   },
   "file_extension": ".py",
   "mimetype": "text/x-python",
   "name": "python",
   "nbconvert_exporter": "python",
   "pygments_lexer": "ipython3",
   "version": "3.7.3"
  },
  "nbsphinx": {
   "execute": "never"
  }
 },
 "nbformat": 4,
 "nbformat_minor": 4
}
