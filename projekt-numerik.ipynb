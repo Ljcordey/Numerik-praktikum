{
 "cells": [
  {
   "cell_type": "markdown",
   "metadata": {},
   "source": [
    "# ***projekt numerik***"
   ]
  },
  {
   "cell_type": "code",
   "execution_count": 1,
   "metadata": {},
   "outputs": [],
   "source": [
    "import numpy as np\n",
    "from matplotlib import pyplot as plt\n",
    "import constants as cst"
   ]
  },
  {
   "cell_type": "markdown",
   "metadata": {},
   "source": [
    "## ***Implicit model***"
   ]
  },
  {
   "cell_type": "code",
   "execution_count": 2,
   "metadata": {},
   "outputs": [],
   "source": [
    "# delta's discretisation\n",
    "\n",
    "delta_t = 0.5\n",
    "delta_r = 0.5\n",
    "\n",
    "def t_i(i):\n",
    "    return i*delta_t\n",
    "\n",
    "def r_j(j):\n",
    "    return j*delta_r\n",
    "\n"
   ]
  },
  {
   "cell_type": "code",
   "execution_count": null,
   "metadata": {},
   "outputs": [],
   "source": [
    "# function definition for explicit solution\n",
    "\n",
    "def Temperature(i,j):\n",
    "\n",
    "Temperature(i,j) + delta_t/(r_j(j)*c_p(j)*rho(j))"
   ]
  },
  {
   "cell_type": "code",
   "execution_count": 3,
   "metadata": {},
   "outputs": [],
   "source": [
    "def euler_explicit(x0, h, y0, f):\n",
    "    x = [0.]\n",
    "    y = [y0]\n",
    "    \n",
    "    while x[-1] < x0-h/2:\n",
    "\n",
    "        y.append((y[-1]+h*(f(x[-1], y[-1]))))\n",
    "        x.append(x[-1]+h)\n",
    "\n",
    "    return np.array(x), np.array(y)"
   ]
  }
 ],
 "metadata": {
  "interpreter": {
   "hash": "7a6a964c472ecd7788e0ef576b897abcedceaec8f1e5eebacc311dcaa6241870"
  },
  "kernelspec": {
   "display_name": "Python 3.7.3 ('base')",
   "language": "python",
   "name": "python3"
  },
  "language_info": {
   "codemirror_mode": {
    "name": "ipython",
    "version": 3
   },
   "file_extension": ".py",
   "mimetype": "text/x-python",
   "name": "python",
   "nbconvert_exporter": "python",
   "pygments_lexer": "ipython3",
   "version": "3.7.3"
  },
  "orig_nbformat": 4
 },
 "nbformat": 4,
 "nbformat_minor": 2
}
